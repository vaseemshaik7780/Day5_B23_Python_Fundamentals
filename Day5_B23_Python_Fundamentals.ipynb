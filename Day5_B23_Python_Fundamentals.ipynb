{
 "cells": [
  {
   "cell_type": "code",
   "execution_count": null,
   "metadata": {},
   "outputs": [],
   "source": [
    "#Introduction looping statments:\n",
    "---Working with for loop:\n",
    "    "
   ]
  },
  {
   "cell_type": "code",
   "execution_count": 18,
   "metadata": {},
   "outputs": [],
   "source": [
    "bank_employees =['khaiz','vaseem','vaheed','basha','jabeer','irfan','shaik','mohammad']"
   ]
  },
  {
   "cell_type": "code",
   "execution_count": 19,
   "metadata": {},
   "outputs": [
    {
     "name": "stdout",
     "output_type": "stream",
     "text": [
      "['khaiz', 'vaseem', 'vaheed', 'basha', 'jabeer', 'irfan', 'shaik', 'mohammad']\n"
     ]
    }
   ],
   "source": [
    "print(bank_employees)"
   ]
  },
  {
   "cell_type": "code",
   "execution_count": null,
   "metadata": {},
   "outputs": [],
   "source": [
    "# holidays announcement using f string:"
   ]
  },
  {
   "cell_type": "code",
   "execution_count": 22,
   "metadata": {},
   "outputs": [
    {
     "name": "stdout",
     "output_type": "stream",
     "text": [
      "tomorrow is holiday for the bank dont come because of genatha carfue {'khaiz'}\n"
     ]
    }
   ],
   "source": [
    "print(f\"tomorrow is holiday for the bank dont come because of genatha carfue\", {bank_employees[0]})"
   ]
  },
  {
   "cell_type": "code",
   "execution_count": 23,
   "metadata": {},
   "outputs": [
    {
     "name": "stdout",
     "output_type": "stream",
     "text": [
      "tomorrow is holiday for the bank dont come because of genatha carfue,jabeer\n"
     ]
    }
   ],
   "source": [
    "print(f\"tomorrow is holiday for the bank dont come because of genatha carfue,{bank_employees[4]}\")"
   ]
  },
  {
   "cell_type": "code",
   "execution_count": null,
   "metadata": {},
   "outputs": [],
   "source": [
    "#using for loop :\n",
    " syntax:  for tempvar in mainvar:\n",
    "            print (tempvar)"
   ]
  },
  {
   "cell_type": "code",
   "execution_count": 24,
   "metadata": {},
   "outputs": [
    {
     "name": "stdout",
     "output_type": "stream",
     "text": [
      "tomorrow is holiday for the bank dont come because of genatha carfue,khaiz\n",
      "tomorrow is holiday for the bank dont come because of genatha carfue,vaseem\n",
      "tomorrow is holiday for the bank dont come because of genatha carfue,vaheed\n",
      "tomorrow is holiday for the bank dont come because of genatha carfue,basha\n",
      "tomorrow is holiday for the bank dont come because of genatha carfue,jabeer\n",
      "tomorrow is holiday for the bank dont come because of genatha carfue,irfan\n",
      "tomorrow is holiday for the bank dont come because of genatha carfue,shaik\n",
      "tomorrow is holiday for the bank dont come because of genatha carfue,mohammad\n"
     ]
    }
   ],
   "source": [
    " for temp in bank_employees:\n",
    "        print(f\"tomorrow is holiday for the bank dont come because of genatha carfue,{temp}\")"
   ]
  },
  {
   "cell_type": "code",
   "execution_count": null,
   "metadata": {},
   "outputs": [],
   "source": [
    "#using title() :"
   ]
  },
  {
   "cell_type": "code",
   "execution_count": 25,
   "metadata": {},
   "outputs": [
    {
     "name": "stdout",
     "output_type": "stream",
     "text": [
      "tomorrow is holiday for the bank dont come because of genatha carfue,Khaiz\n",
      "tomorrow is holiday for the bank dont come because of genatha carfue,Vaseem\n",
      "tomorrow is holiday for the bank dont come because of genatha carfue,Vaheed\n",
      "tomorrow is holiday for the bank dont come because of genatha carfue,Basha\n",
      "tomorrow is holiday for the bank dont come because of genatha carfue,Jabeer\n",
      "tomorrow is holiday for the bank dont come because of genatha carfue,Irfan\n",
      "tomorrow is holiday for the bank dont come because of genatha carfue,Shaik\n",
      "tomorrow is holiday for the bank dont come because of genatha carfue,Mohammad\n"
     ]
    }
   ],
   "source": [
    "for temp in bank_employees:\n",
    "        print(f\"tomorrow is holiday for the bank dont come because of genatha carfue,{temp.title()}\")"
   ]
  },
  {
   "cell_type": "code",
   "execution_count": null,
   "metadata": {},
   "outputs": [],
   "source": [
    "#using \\n :"
   ]
  },
  {
   "cell_type": "code",
   "execution_count": 26,
   "metadata": {},
   "outputs": [
    {
     "name": "stdout",
     "output_type": "stream",
     "text": [
      "tomorrow is holiday for the bank dont come because of genatha carfue,Khaiz.\n",
      "\n",
      "tomorrow is holiday for the bank dont come because of genatha carfue,Vaseem.\n",
      "\n",
      "tomorrow is holiday for the bank dont come because of genatha carfue,Vaheed.\n",
      "\n",
      "tomorrow is holiday for the bank dont come because of genatha carfue,Basha.\n",
      "\n",
      "tomorrow is holiday for the bank dont come because of genatha carfue,Jabeer.\n",
      "\n",
      "tomorrow is holiday for the bank dont come because of genatha carfue,Irfan.\n",
      "\n",
      "tomorrow is holiday for the bank dont come because of genatha carfue,Shaik.\n",
      "\n",
      "tomorrow is holiday for the bank dont come because of genatha carfue,Mohammad.\n",
      "\n"
     ]
    }
   ],
   "source": [
    "for temp in bank_employees:\n",
    "        print(f\"tomorrow is holiday for the bank dont come because of genatha carfue,{temp.title()}.\\n\")"
   ]
  },
  {
   "cell_type": "code",
   "execution_count": null,
   "metadata": {},
   "outputs": [],
   "source": [
    "# Introduction to organizing the list:\n",
    " there are two posssible ways\n",
    "    1. temp way----- syntax:print(sorted(x))\n",
    "    2. per way------ syntax: x.sort()\n",
    "                              print(x)\n",
    "            "
   ]
  },
  {
   "cell_type": "code",
   "execution_count": 27,
   "metadata": {},
   "outputs": [],
   "source": [
    "cars=[\"Volvo\",\"Benz\",\"Ferrari\",\"Jaguar\",\"Audi\",\"BMW\"]"
   ]
  },
  {
   "cell_type": "code",
   "execution_count": 28,
   "metadata": {},
   "outputs": [
    {
     "name": "stdout",
     "output_type": "stream",
     "text": [
      "['Volvo', 'Benz', 'Ferrari', 'Jaguar', 'Audi', 'BMW']\n"
     ]
    }
   ],
   "source": [
    "print(cars)"
   ]
  },
  {
   "cell_type": "code",
   "execution_count": 29,
   "metadata": {},
   "outputs": [
    {
     "name": "stdout",
     "output_type": "stream",
     "text": [
      "['Audi', 'BMW', 'Benz', 'Ferrari', 'Jaguar', 'Volvo']\n"
     ]
    }
   ],
   "source": [
    "print(sorted(cars))"
   ]
  },
  {
   "cell_type": "code",
   "execution_count": 30,
   "metadata": {},
   "outputs": [
    {
     "name": "stdout",
     "output_type": "stream",
     "text": [
      "['Audi', 'BMW', 'Benz', 'Ferrari', 'Jaguar', 'Volvo']\n"
     ]
    }
   ],
   "source": [
    "cars.sort()\n",
    "print(cars)"
   ]
  },
  {
   "cell_type": "code",
   "execution_count": null,
   "metadata": {},
   "outputs": [],
   "source": []
  }
 ],
 "metadata": {
  "kernelspec": {
   "display_name": "Python 3",
   "language": "python",
   "name": "python3"
  },
  "language_info": {
   "codemirror_mode": {
    "name": "ipython",
    "version": 3
   },
   "file_extension": ".py",
   "mimetype": "text/x-python",
   "name": "python",
   "nbconvert_exporter": "python",
   "pygments_lexer": "ipython3",
   "version": "3.7.3"
  }
 },
 "nbformat": 4,
 "nbformat_minor": 2
}
